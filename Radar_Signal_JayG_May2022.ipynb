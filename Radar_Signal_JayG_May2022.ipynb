{
 "cells": [
  {
   "cell_type": "markdown",
   "metadata": {},
   "source": [
    "### Python implementation: Radar signal and target detection!\n",
    "<b> Author: Jay Gautam, Darmstadt, Germany.\\\n",
    "<b> Objective of Python script: \n",
    "    1. Maximum range a radar can detect with respect to bandwidth and intermediate frequency.\n",
    "    2. Distance measurement of 3 targets with their Intermediate frequencies observed by the radar signals. \n",
    "    3. Measurement of Doppler velocities of different targets with respect to their Doppler frequencies.\n",
    "    4. Measurement of maximum velocity that a sensor can detect\n",
    "    5. Measurement of velocity resolution depending on chirp rate."
   ]
  },
  {
   "cell_type": "markdown",
   "metadata": {},
   "source": [
    "#### Standard radar operation parameters."
   ]
  },
  {
   "cell_type": "code",
   "execution_count": 45,
   "metadata": {},
   "outputs": [
    {
     "name": "stdout",
     "output_type": "stream",
     "text": [
      "The center frequency in GHz, fc =  80.0 GHz\n",
      "Wavelength, Lambda =  3.75 mm\n",
      "Bandwidth in GHz, BW =  20.0 GHz\n",
      "Chirp rate =  6.666666666666667e-05 seconds\n"
     ]
    }
   ],
   "source": [
    "# Radar signal operation specifications\n",
    "f_low = 70*10**9 # Lower frequency of Radar operation in Hz\n",
    "f_high = 90*10**9 # Higher frequency of Radar operation in Hz\n",
    "chirp_slope = 300*10**12 # hz/second\n",
    "c= 3*10**8 # in m/s\n",
    "\n",
    "# Calculation of center frequency\n",
    "f_c = round((f_low + f_high)/2, 3)\n",
    "f_c_GHz = f_c/(10**9)\n",
    "print('The center frequency in GHz, fc = ',f_c_GHz,'GHz')\n",
    "\n",
    "# Calculation of wavelength\n",
    "Lambda = c/f_c # in meter\n",
    "Lambda_mm = Lambda*10**3 # in mellimeter\n",
    "print('Wavelength, Lambda = ', Lambda_mm,'mm')\n",
    "\n",
    "# Calculation of Bandwidth\n",
    "BW = f_high - f_low # in Hz\n",
    "BW_GHz = BW/10**9\n",
    "print('Bandwidth in GHz, BW = ', BW_GHz,'GHz')\n",
    "\n",
    "# Calculation of Chirp rate\n",
    "chirp_rate = BW/chirp_slope\n",
    "print('Chirp rate = ', chirp_rate, 'seconds')"
   ]
  },
  {
   "cell_type": "markdown",
   "metadata": {},
   "source": [
    "#### Maximum range to be detected, Distance of targets from radar."
   ]
  },
  {
   "cell_type": "code",
   "execution_count": 46,
   "metadata": {
    "scrolled": true
   },
   "outputs": [
    {
     "name": "stdout",
     "output_type": "stream",
     "text": [
      "Maximum range detected by the radar sensor =  180 meter\n",
      "Distance of target1 from the radar sensor =  10 meter\n",
      "Distance of target2 from the radar sensor =  50 meter\n",
      "The target3 at distance 200 meter can not be detected by the radar.\n"
     ]
    }
   ],
   "source": [
    "import math\n",
    "\n",
    "c= 3*10**8 # in m/s\n",
    "f_c = 80*10**9 # center frequency of operation in Hz\n",
    "range_resolution = 0.5 # meter\n",
    "chirp_time = 20*10**(-6) # second\n",
    "BW_IF = 18*10**6 # Intermediate mx frequency in Hz.\n",
    "\n",
    "BW = c/(2*range_resolution) # Bandwidth required for the given reange resolution.\n",
    "R_max = math.ceil((c *chirp_time*BW_IF)/(2*BW)) # maximum range detected by the radar sensor.\n",
    "\n",
    "print('Maximum range detected by the radar sensor = ',R_max,'meter')\n",
    "\n",
    "If = [1*10**6, 5*10**6, 20*10**6] #Intermediate frequencies corresponding to targets 1 to 3, in Hz\n",
    "\n",
    "for i in range(3):\n",
    "    r = math.ceil((c*chirp_time*If[i])/(2*BW)) # Distance of targets from the radar sensor.\n",
    "    if r < R_max:\n",
    "        print(f'Distance of target{i+1} from the radar sensor = ',r,'meter')\n",
    "    else:\n",
    "        print(f'The target{i+1} at distance {r} meter can not be detected by the radar.')"
   ]
  },
  {
   "cell_type": "markdown",
   "metadata": {},
   "source": [
    "#### Maximum velocity detection, Relative Doppler velocity, Velocity resolution."
   ]
  },
  {
   "cell_type": "code",
   "execution_count": 47,
   "metadata": {},
   "outputs": [
    {
     "name": "stdout",
     "output_type": "stream",
     "text": [
      "Relative Doppler velocity of the target1 =  0.0 m/s\n",
      "Relative Doppler velocity of the target2 =  7.79 m/s\n",
      "Relative Doppler velocity of the target3 =  -7.79 m/s\n",
      "Relative Doppler velocity of the target4 =  15.58 m/s\n",
      "Maximum velocity that a sensor can detect for the given chirp time =  48.7 m/sec\n",
      "Velocity resolution of radar =  0.761 m/sec\n",
      "Velocity resolution of radar after doubling the Chirps per frame =  0.38 m/sec\n"
     ]
    }
   ],
   "source": [
    "c = 3 *10**8      # m/sec\n",
    "f_c = 77 * 10**9   # Hz\n",
    "range_resolution = 0.5  # m\n",
    "chirp_time = 20 *10**(-6)  # seconds\n",
    "chirps_per_frame = 128\n",
    "\n",
    "Lambda = c / f_c # Wavelength in meter\n",
    "fd = [0, 4* 10**3, -4* 10**3, 8* 10**3] # radar Doppler frequency for targets 1 to 4, in Hz.\n",
    "\n",
    "# Calculation of relative Doppler velocities of different targets\n",
    "for i in range(4):\n",
    "    v = round((fd[i]*Lambda)/2, 2) # relative Doppler velocity of targets 1 to 4, in m/s\n",
    "    print(f'Relative Doppler velocity of the target{i+1} = ', v,'m/s')\n",
    "\n",
    "# Maximum velocity that a sensor can detect for the given chirp time, in m/ses\n",
    "v_max_detect = round(Lambda/(4 * chirp_time), 2) \n",
    "print('Maximum velocity that a sensor can detect for the given chirp time = ', v_max_detect, 'm/sec')\n",
    "\n",
    "#Velocity resolution in m/sec. And effect of chirp rate on Velocity resolution.\n",
    "v_resolution = round(Lambda / ( 2*chirps_per_frame*chirp_time), 3)\n",
    "print('Velocity resolution of radar = ', v_resolution,'m/sec')\n",
    "\n",
    "chirps_per_frame_double = 2*chirps_per_frame\n",
    "v_resolution_with_double_chirp_rate = round(Lambda / ( 2*chirps_per_frame_double*chirp_time), 3)\n",
    "print('Velocity resolution of radar after doubling the Chirps per frame = ', v_resolution_with_double_chirp_rate,'m/sec')"
   ]
  },
  {
   "cell_type": "code",
   "execution_count": null,
   "metadata": {},
   "outputs": [],
   "source": []
  }
 ],
 "metadata": {
  "kernelspec": {
   "display_name": "Python 3",
   "language": "python",
   "name": "python3"
  },
  "language_info": {
   "codemirror_mode": {
    "name": "ipython",
    "version": 3
   },
   "file_extension": ".py",
   "mimetype": "text/x-python",
   "name": "python",
   "nbconvert_exporter": "python",
   "pygments_lexer": "ipython3",
   "version": "3.8.3"
  },
  "toc": {
   "base_numbering": 1,
   "nav_menu": {},
   "number_sections": true,
   "sideBar": true,
   "skip_h1_title": false,
   "title_cell": "Table of Contents",
   "title_sidebar": "Contents",
   "toc_cell": false,
   "toc_position": {},
   "toc_section_display": true,
   "toc_window_display": false
  }
 },
 "nbformat": 4,
 "nbformat_minor": 4
}
